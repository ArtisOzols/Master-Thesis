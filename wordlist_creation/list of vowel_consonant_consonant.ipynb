{
 "cells": [
  {
   "attachments": {},
   "cell_type": "markdown",
   "metadata": {},
   "source": [
    "From this notebook two types of lists are made:\n",
    "Non-stammable list of words (nost) which contain such part of speech tags:\n",
    "- Saikļi\n",
    "- Prievārdi\n",
    "- Izsauksmes vārdus\n",
    "- Partikulas\n",
    "\n",
    "Stammable list of words (st) which contain such part of speech tags:\n",
    "- Apstākļa vārds\n",
    "- Darbības vārds\n",
    "- Divdabis\n",
    "- Lietvārds\n",
    "- Skaitļa vārds\n",
    "- Īpašības vārds\n",
    "- Vietniekvārds\n",
    "- Īpašvārds"
   ]
  },
  {
   "attachments": {},
   "cell_type": "markdown",
   "metadata": {},
   "source": [
    "The dataset from which exception wordlists are created is Tēzaurs (Spektors, Andrejs; et al.). The data file can be found in tezaurs_2022_tei-xml.zip/tezaurs_2022_tei.xml and downloaded here: https://repository.clarin.lv/repository/xmlui/handle/20.500.12574/66\n",
    "\n",
    "Extracting entities with their part of speech tags"
   ]
  },
  {
   "cell_type": "code",
   "execution_count": 29,
   "metadata": {},
   "outputs": [],
   "source": [
    "from pathlib import Path\n",
    "def getFilter(path=\"parquet\", prefix=\"\", match=\"\", ignore=\"\", suffix=\"parquet\"):\n",
    "    \"\"\"\n",
    "    Get list of files given path, prefix, match, ignore, suffix\"\"\"\n",
    "    p = Path(path)\n",
    "    if ignore:\n",
    "        return [f for f in p.iterdir() if f.is_file() and f.name.startswith(prefix) and match in f.name and not ignore in f.name and f.name.endswith(suffix)]\n",
    "    return [f for f in p.iterdir() if f.is_file() and f.name.startswith(prefix) and match in f.name and f.name.endswith(suffix)]"
   ]
  },
  {
   "cell_type": "code",
   "execution_count": 30,
   "metadata": {},
   "outputs": [
    {
     "data": {
      "text/plain": [
       "395554"
      ]
     },
     "execution_count": 30,
     "metadata": {},
     "output_type": "execute_result"
    }
   ],
   "source": [
    "import xml.etree.ElementTree as ET\n",
    "\n",
    "files = getFilter(\"./\", suffix=\".xml\")\n",
    "text = files[0].read_text(encoding=\"utf-8\")\n",
    "root = ET.fromstring(text)\n",
    "\n",
    "entities, x = set(), set()\n",
    "for entity in root[1][:-1]:\n",
    "    for form in entity.findall(\"./form\"):\n",
    "        orth = form.find(\"./orth\").text\n",
    "        noflecw = form.findall(\".//*[@type='Nelokāms vārds']\")\n",
    "        prop_name = form.findall(\".//*[@type='Īpašvārda veids']\")\n",
    "        pos = form.findall(\".//*[@type='Vārdšķira']\")\n",
    "\n",
    "        if noflecw:\n",
    "            p = \"Nelokāms vārds\"\n",
    "        elif prop_name:\n",
    "            if orth[-1] in [\"o\", \"ā\", \"ē\", \"o\", \"u\", \"ū\", \"f\"]:\n",
    "                p = \"Nelokāms vārds\"\n",
    "            else:\n",
    "                p = \"Īpašvārds\"\n",
    "        elif len(pos) > 0:\n",
    "            p = pos[0].text            # The first is taken since the rest are either pos of following word or smth else \n",
    "        else:\n",
    "            p = \"\"\n",
    "        entities.add((orth, p))\n",
    "len(entities)"
   ]
  },
  {
   "cell_type": "code",
   "execution_count": 31,
   "metadata": {},
   "outputs": [
    {
     "data": {
      "text/plain": [
       "372496"
      ]
     },
     "execution_count": 31,
     "metadata": {},
     "output_type": "execute_result"
    }
   ],
   "source": [
    "wordlist, abbr = set(), set()\n",
    "with_symbol = set() # fallo-, -cm, Hewlett-Packard\n",
    "for words, pos in entities:\n",
    "    spl_words = words.split()\n",
    "    for w in spl_words:\n",
    "        w = w.lower()\n",
    "        if w[-1] == \".\":\n",
    "            # abbr.add(w[:-1]) VECAIS\n",
    "            wordlist.add((w[:-1], \"Saīsinājums\"))\n",
    "        else:\n",
    "            if w.isalpha():\n",
    "                if len(spl_words) > 1:\n",
    "                    wordlist.add((w, \"\"))\n",
    "                else:\n",
    "                    wordlist.add((w, pos))\n",
    "                    \n",
    "            else:\n",
    "                with_symbol.add(w)\n",
    "len(wordlist)"
   ]
  },
  {
   "attachments": {},
   "cell_type": "markdown",
   "metadata": {},
   "source": [
    "Creating and stemming a set of nouns (including toponyms and excluding words in a foreign language) in 2nd declination plural form"
   ]
  },
  {
   "cell_type": "code",
   "execution_count": 32,
   "metadata": {},
   "outputs": [],
   "source": [
    "# Consonant alternation\n",
    "# Since masculine words in 6th and words in 5th deklination in plural genitive and all words in 2nd plural stems in LatvianStemmer different than in other inflections\n",
    "# (e.g.: /blūze, ļaudis/ stem(\"...žu\") is \"...ž\" not \"...d\" or \"...z\"; /ballīte, kase  stem(\"...šu\") is \"...š\" not \"...t\" or \"...s\")\n",
    "# such stemmed words must be added to VCC wordlist.\n",
    "# Note: words in 6th declination are taken only if they were labeled so (since inflection -s is also for masculine words in 1st declination, there are no rules that\n",
    "# could destinguish these declinations). 2nd and 5th declination were taken from wordlist if words ended with -is and -e, then manually reviewed. \n",
    "# Words (including toponyms and excluding words in a foreign language) in 2nd or 6th and 5th declination (words that end with -is, -e and -s) ¡that consists of VCC!\n",
    "vcc_cc_is = ['semissis', 'missis', 'pertussis', 'hunnis', 'kunnis', 'minnis', 'nannis', 'ninnis', 'perennis', 'pienspannis', 'pinnis', 'pusvannis', 'rennis', 'sonnis', 'spannis', 'spinnis', 'spunnis', 'sviestspannis', 'tennis', 'tunnis', 'vannis', 'vinnis', 'ķinnis', 'ķunnis']\n",
    "vcc_c_is = ['bullītis', 'caurrūdzis', 'cittautietis', 'garradzis', 'immerītis', 'kannaraudzis', 'kannasraudzis', 'kannuraudzis', 'kodolledlauzis', 'lollītis', 'lullītis', 'melldirsietis', 'melluzis', 'mellītis', 'mellūzis', 'mugurradzis', 'piparrausis', 'plakannadzis', 'pupulellītis', 'pussakritis', 'pussavītis', 'pusskābītis', 'pussprādzis', 'pussprīdis', 'rullītis', 'sausserdis', 'saussviedis', 'saussērdis', 'savvalnietis', 'sjerraleonietis', 'skrullastis', 'skrullītis', 'spannītis', 'sproggalvītis', 'spunnītis', 'tullūzis', 'turritis', 'vannūzis', 'viennadzis', 'villkārsis', 'villnesis', 'villītis', 'vīteņsausserdis', 'zemmilzis', 'ziemmitis', 'šļemmozis']\n",
    "vcc_cc_e = ['asse', 'atte', 'garenšotte', 'gazette', 'jeunesse', 'karlshuette', 'kresse', 'laisse', 'lamette', 'latte', 'misse', 'mousse', 'natte', 'nozze', 'otte', 'paulette', 'promesse', 'rainette', 'recepisse', 'roulette', 'sedde', 'zisse', 'šotte']\n",
    "vcc_c_e = ['annasbirze','annonse','annuite','annuitāte','annupīte','annāliste','appute','aspergilloze','asslodze','attestate','atturlīste','attēlkarte','baddzegoze','baddzeguse','baddzeguze','baddzegūze','bakkaste','ballenštete','ballīte','barrete','bellatrikse','bertiellioze','bezziede','bollate','bremmelīte','buļļupīte','celluloze','ceļmallapīte','ciemmaize','cirroze','cittautiete','debessbrūte','deggāze','dielektrollze','donavvērte','dālderroze','eksterritorialitāte','ellīte','enneāde','ezarroze','ezerroze','fibrillolīze','fibrilloģenēze','finnoze','finnsnēse','follete','galliete', 'hallande','hellebarde','hellēniste','hilodonelloze','himmelšpeize','hunniete','illegalitāte','irreliģiozitāte','irreversibilitāte','irritābilitāte','izzude','johanngeorgenštate','kallaste','kannīte','karrebeksminde','kastellabate','kastellamonte','kazzemenīte','kontrollente','korrektrise','kreimmaize','krejummaize','krellainīte','krellīte','kroppenštete','krsitalloze','krējummaize','kukaiņappute','kummīte','lagglāze','lappuse','lenneštate','limmate','lollande','mammicīte','mammucīte','mammīte','mannoze','mannozidoze','mazzante','mellenīte','melleņaudze','mellrihštate','mellupīte','mellužīte','mellīte','memmīte','merveilleuse','meļļupīte','miesassardze','millerioze','millroze','minnerštate','miļļupīte','mollase','mollese','motorolleriste','nabassaite','nulladrese','oberramštate','pamattonalitāte','pamattēze','pantalonnade','papildappute','papillomatoze','pašappute','piespieddzese','pijkannīte','pinnīte','pollakikoproze','pommade','programmbāze','programmizstrāde','programmkomponente','pulloroze','pussekunde','pusslodze','pusspunde','pussvēte','pīpkannīte','pļavvālodze','ralliste','rennede','rennerode','ritterhauze','rokassaite','rokassprādze','ruļļaste','rīpellāde','sannēse','sausserde','sirreāliste','sjerraleoniete','snieggāze','sottise','staļļupīte','stellīte','sudrabbisīte','suffraģiste','superreāliste','svešappute','tellese','tiņņupīte','tonnjūdze','trihinelloze','trummete','tullīte','tuvappute','tālappute','ummerštate','urrāpatriote','vakarreize','vallensfelze','vannīte','varroatoze','varroze','veccēzīte','vellmāte','viddienpuse','villabāte','violončelliste','viņammāte','zemessardze','zemesstērste','zieppuķīte','zonnevalde','čelliste','ēbermannštate','ķemmlāde','ļukkurpīte','šellefte','šiemmāte','šimmāte']\n",
    "vcc_c_s = ['diennakts', 'mēnessnakts']\n",
    "# Conversion rules to convert in plural form (genetive) and stem them. Only such rules that will change a words after stemming are used. \n",
    "cc_alt = {'nn': \"ņņ\", 'ss': \"šš\", \"tt\": \"šš\", \"dd\": \"žž\", \"zz\": \"žž\"}\n",
    "c_end = {'d': 'ž', 's': 'š', 't': 'š', 'z': 'ž'}"
   ]
  },
  {
   "cell_type": "code",
   "execution_count": 33,
   "metadata": {},
   "outputs": [
    {
     "data": {
      "text/plain": [
       "45"
      ]
     },
     "execution_count": 33,
     "metadata": {},
     "output_type": "execute_result"
    }
   ],
   "source": [
    "vcc_dekl_st_plur = set()\n",
    "for w in vcc_cc_is:\n",
    "    if w[-4:-2] in cc_alt:\n",
    "        vcc_dekl_st_plur.add(w[:-4] + cc_alt[w[-4:-2]])\n",
    "for w in vcc_cc_e:\n",
    "    if w[-3:-1] in cc_alt:\n",
    "        vcc_dekl_st_plur.add(w[:-3] + cc_alt[w[-3:-1]])\n",
    "len(vcc_dekl_st_plur)"
   ]
  },
  {
   "cell_type": "code",
   "execution_count": 34,
   "metadata": {},
   "outputs": [
    {
     "data": {
      "text/plain": [
       "269"
      ]
     },
     "execution_count": 34,
     "metadata": {},
     "output_type": "execute_result"
    }
   ],
   "source": [
    "for w in vcc_c_is:\n",
    "    if w[-4] != w[-3] and w[-3] in c_end:\n",
    "        vcc_dekl_st_plur.add(w[:-3] + c_end[w[-3]])\n",
    "for w in vcc_c_e:\n",
    "    if w[-3] != w[-2] and w[-2] in c_end:\n",
    "        vcc_dekl_st_plur.add(w[:-2] + c_end[w[-2]])\n",
    "vcc_dekl_st_plur.add(vcc_c_s[0][:-2]+\"š\")   # 'diennakts'\n",
    "vcc_dekl_st_plur.add(vcc_c_s[1][:-2]+\"š\")   # 'mēnessnakts'\n",
    "len(vcc_dekl_st_plur)"
   ]
  },
  {
   "attachments": {},
   "cell_type": "markdown",
   "metadata": {},
   "source": [
    "Stemming wordlist words and adding stemmed words in 2nd declination plural form. Collecting words that ends with VCC"
   ]
  },
  {
   "cell_type": "code",
   "execution_count": 35,
   "metadata": {},
   "outputs": [
    {
     "data": {
      "text/plain": [
       "(113541, 243239, 954)"
      ]
     },
     "execution_count": 35,
     "metadata": {},
     "output_type": "execute_result"
    }
   ],
   "source": [
    "from LatvianStemmer import stem\n",
    "\n",
    "consonants = [\"b\", \"c\", \"č\", \"d\", \"f\", \"g\", \"ģ\", \"h\", \"j\", \"k\", \"ķ\", \"l\", \"ļ\", \"m\", \"n\", \"ņ\", \"p\", \"r\", \"s\", \"š\", \"t\", \"v\", \"z\", \"ž\"]\n",
    "svowels = [\"a\", \"e\", \"i\", \"o\", \"u\"]\n",
    "\n",
    "st_pos = ['Lietvārds', 'Īpašības vārds', 'Skaitļa vārds', \"Vietniekvārds\", 'Īpašvārds', 'Darbības vārds', 'Divdabis']\n",
    "\n",
    "end_vcc = set()\n",
    "nost_wordlist = set()\n",
    "st_wordlist = set([stem(w) for w in vcc_dekl_st_plur])\n",
    "\n",
    "for w, p in wordlist:\n",
    "    # Finding words that ends with VCC (bizness, ņamm)\n",
    "    for v in svowels:\n",
    "        for c in consonants:\n",
    "            if v+c+c == w[-3:]:\n",
    "                end_vcc.add(w)\n",
    "                \n",
    "    # Stemming wordlist\n",
    "    if p in st_pos:\n",
    "        st_wordlist.add(stem(w))\n",
    "    else:\n",
    "        nost_wordlist.add(w)\n",
    "\n",
    "\n",
    "# Words where last two letters of stem are ņņ in stem() are stemmed incorrectily – \"ņn\". So to correct this mistake such words are replaced with ending \"ņņ\".\n",
    "st_wordlist.remove(\"peņn\")\n",
    "st_wordlist.remove(\"ņuņn\")\n",
    "st_wordlist.add(\"peņņ\")\n",
    "st_wordlist.add(\"ņuņņ\")\n",
    "\n",
    "len(st_wordlist), len(nost_wordlist), len(end_vcc)"
   ]
  },
  {
   "attachments": {},
   "cell_type": "markdown",
   "metadata": {},
   "source": [
    "Adding words that ends with VCC. Adding prefixes and suffixes to VCC words."
   ]
  },
  {
   "cell_type": "code",
   "execution_count": 10,
   "metadata": {},
   "outputs": [],
   "source": [
    "# Suffixes that starts with consonant and could create VCC (with words which stem ends with the same letter).\n",
    "# Such suffixes are only \"niek\" \n",
    "\n",
    "# suffix_pos =  [\"Lietvārds\", \"Īpašības vārds\", \"Darbības vārds\"]\n",
    "# suf_st_wordlist = set()\n",
    "\n",
    "# for w, p in st_wordlist:\n",
    "#     if p in suffix_pos:\n",
    "#         if w[-1] == \"n\":\n",
    "#             suf_st_wordlist.add((w+\"niek\", p))\n",
    "# len(suf_st_wordlist)"
   ]
  },
  {
   "cell_type": "code",
   "execution_count": 11,
   "metadata": {},
   "outputs": [],
   "source": [
    "# # Prefixes without those who ends with vowel.\n",
    "# # since no word starts with two consonants, combining them with such prefixes will not make VCC \n",
    "# prefix = [\"aiz\", \"ap\", \"at\", \"bez\", \"caur\", \"iz\", \"pār\", \"pēc\", \"pret\", \"uz\"]\n",
    "# prefix_pos =  [\"Apstākļa vārds\", \"Darbības vārds\", \"Divdabis\", \"Lietvārds\", \"Īpašības vārds\"]\n",
    "\n",
    "# st_wordlist.update(end_vcc)\n",
    "\n",
    "# pref_st_wordlist = set()\n",
    "# for w, p in st_wordlist:\n",
    "#     if p in prefix_pos:\n",
    "#         for pref in prefix:\n",
    "#             if pref[-1] == w[0]:\n",
    "#                 pref_st_wordlist.add(pref+w)\n",
    "# len(pref_st_wordlist)"
   ]
  },
  {
   "cell_type": "code",
   "execution_count": 36,
   "metadata": {},
   "outputs": [
    {
     "data": {
      "text/plain": [
       "2740"
      ]
     },
     "execution_count": 36,
     "metadata": {},
     "output_type": "execute_result"
    }
   ],
   "source": [
    "st_vcc = set()\n",
    "for w in st_wordlist:\n",
    "    for v in svowels:\n",
    "        for c in consonants:\n",
    "            if v+c+c in w:\n",
    "                st_vcc.add(w)\n",
    "len(st_vcc)"
   ]
  },
  {
   "cell_type": "code",
   "execution_count": 20,
   "metadata": {},
   "outputs": [
    {
     "data": {
      "text/plain": [
       "8252"
      ]
     },
     "execution_count": 20,
     "metadata": {},
     "output_type": "execute_result"
    }
   ],
   "source": [
    "#  Compound words are removed since all of them are related with chemistry or medicine \n",
    "# comp_w = ['kommerc', 'gross', 'milli', 'izza', 'hippo', 'all', 'allo', 'atto', 'fall', 'falli', 'cillo', 'fallo', 'ferr', 'ferri', 'ferro', 'fillo', 'psammo', 'pupill', 'pupillo', 'stanni', 'stanno']\n",
    "\n",
    "#  Words with symbol are those that contained a symbol (except \".\"). Some symbols like '\"' are removed and words in parenthesis are removed (since such words are already in other lists).\n",
    "# w_with_symbol = ['Hewlett-Packard', 'Novell', 'Quattro', 'Tessa', 'Adsel-Luttershof', 'Alt-Sallensee', 'Apencelle-Auserrodene', 'Apencelle-Innerrodene', 'Apencelles-Auserrodenes', 'Apencelles-Innerrodenes', 'Bagge-Assieten', 'Bagge-Assiten', 'Basku-Navarras', 'Bārle-Nassau', 'Cella-Melisa', 'Demmen-Pastorat', 'Fillingene-Šveningene', 'Frank-Sessau', 'Gallas-Somālijas', 'Gazenpot-Paddernskaja', 'Gross-Dueppeln', 'Gross-Dursuppen', 'Gross-Lassen', 'Gross-Roennen', 'Gross-Sessau', 'Gross-Sussei', 'Grumma-Gržimailo', 'Hellebeka-Ālsgārde', 'Hornbeka-Dronningmelle', 'Huballi-Dhāravāda', \"J'accuse\", 'Katvaru-Vannišu', 'Kilingi-Nemme', 'Klaustāle-Cellerfelde', 'Klein-Aisswicken', 'Klein-Dueppeln', 'Klein-Dursuppen', 'Klein-Kalleten', 'Klein-Roennen', 'Klein-Sessau', 'Klein-Strutteln', 'Klein-Sussei', 'Korneti-Peļļi', 'Krons-Roennen', 'Krussat-Drogen', 'Lubben-Oschen', 'Lubbert-Renzen', 'Masa-Karrāra', 'Mullutu-Sūrlahts', 'Neu-Sessau', 'Neu-Warriben', 'Paddern-Hasenpoht', 'Pallas-Illestunturi', 'Pallas-Ounastunturi', 'Rankas-Leļļu', 'Skaržiska-Kamenna', 'Skaržisko-Kamenna', 'Tasch-Padderen', 'Taš-Paddernskaja', 'Tels-Paddern', 'Vanne-Eikele', 'Viššī-Broda', 'Wittenheim-Sussei', \"all'Jonio\", \"all'ottava\", \"all'unisono\", 'allii-populina', 'anagallis-aquatica', 'chill-out', 'dell’Emīlija', \"drum'n'bass\", 'e-bizness', 'gamma-tokoferols', 'glass-paper', 'half-penny', 'haut-dessus', 'haut-taille', 'ilang-ilangeļļa', 'karmaņņiks-tjehņiks', 'krak-process', 'lurgi-metalls', 'mell-elksnis', 'mūzik-halls', 'nell’Emīlija', 'penna-marina', 'penny-a-liner', 'permo-triass', 'pis-aller', 'pot-pourri', 'rosae-pimpinellifolia', \"sull'Ada\", \"sull'Arno\", 'sull’Oglio', 'vaccinii-uliginosi', 'vallu', 'Ķemeru-Pussēkļa', 'Šteibaha-Hallenberga', 'šerri-brendi', 'šerri-brendijs', 'šerri-koblers']\n",
    "# w_with_symbol = set([w.lower() for w in w_with_symbol])\n",
    "\n",
    "# nost_wordlist.update(w_with_symbol)\n",
    "# nost_wordlist.update(abbr)\n",
    "\n",
    "nost_vcc = set()\n",
    "for w in nost_wordlist:\n",
    "    for v in svowels:\n",
    "        for c in consonants:\n",
    "            if v+c+c in w:\n",
    "                nost_vcc.add(w)\n",
    "\n",
    "nost_vcc.update(end_vcc)\n",
    "\n",
    "len(nost_vcc)"
   ]
  },
  {
   "cell_type": "code",
   "execution_count": null,
   "metadata": {},
   "outputs": [],
   "source": [
    "nost_vcc.remove(\"arr\")\n",
    "nost_vcc.remove(\"irr\")\n",
    "nost_vcc.remove(\"att\")\n",
    "nost_vcc.remove(\"essi\")\n",
    "\n",
    "# st_vcc.remove(\"tikk\")\n",
    "st_vcc.remove(\"mann\")\n",
    "st_vcc.remove(\"viņņ\")\n",
    "st_vcc.remove(\"arr\")\n",
    "st_vcc.remove(\"att\")"
   ]
  },
  {
   "cell_type": "markdown",
   "metadata": {},
   "source": [
    "Adding compound words, company names and words with simbol to full list of VCC. Compound words and words with symbol were found after filtering them out at the beginning and searching for those that have VCC. These words do not combine with prefixes (**This is omitted**)"
   ]
  },
  {
   "cell_type": "code",
   "execution_count": null,
   "metadata": {},
   "outputs": [],
   "source": [
    "\n",
    "nost_vcc = set()\n",
    "for w in nost_wordlist | w_with_symbol:\n",
    "    for v in svowels:\n",
    "        for c in consonants:\n",
    "            if v+c+c in w:\n",
    "                nost_vcc.add(w)\n",
    "\n",
    "nost_vcc.update(end_vcc)\n",
    "\n",
    "len(nost_vcc)"
   ]
  },
  {
   "cell_type": "code",
   "execution_count": 286,
   "metadata": {},
   "outputs": [],
   "source": []
  },
  {
   "cell_type": "code",
   "execution_count": 28,
   "metadata": {},
   "outputs": [],
   "source": [
    "# remove_prefix ||PREF||\n",
    "# Removes prefix\n",
    "def remove_prefix(w, rm_all=True):\n",
    "    for p in ['atpakaļ', 'līdzās', 'priekš', 'pretim', 'līdzās', 'pret', 'līdz', 'caur', 'vis', 'pie', 'pār', 'aiz', 'pus', 'uz', 'sa', 'pa', 'no', 'ne', 'jā', 'iz', 'ie', 'at', 'ap']:\n",
    "        # Takes each prefix from \"w_p_e.pref\" list and checks if word starts with it. Measures prefix length (taken from the list) and checks that many first letters in the word; if they match, prefix is removed\n",
    "        if w[:len(p)] == p:\n",
    "            nopref_w = w[len(p):]\n",
    "\n",
    "            # the minimal length of word without prefix is 2, because the input words can be stemmed. e.g., \"neas\" from word \"neass\"\n",
    "            if len(nopref_w)<=1:\n",
    "                return (w, \"\")\n",
    "\n",
    "            #  if property rm_all is set to False, word without a prefix and removed prefix is returned. If not, the rest of the prefixes will be removed from word and returned\n",
    "            if not rm_all:\n",
    "                return (nopref_w, p)\n",
    "            \n",
    "            # To remove the remaining prefixes, remove_prefix() function is called. Both its values are returned, but before the second value returned prefix is added\n",
    "            new_w, new_p = remove_prefix(nopref_w)\n",
    "            return (new_w, p + new_p)\n",
    "    # If word dont have any prefix, word with nothing is returned\n",
    "    return (w, \"\")"
   ]
  },
  {
   "cell_type": "code",
   "execution_count": 287,
   "metadata": {},
   "outputs": [],
   "source": [
    "st_vcc = set([remove_prefix(w)[0] for w in st_vcc])\n",
    "nost_vcc = set([remove_prefix(w)[0] for w in nost_vcc])"
   ]
  },
  {
   "cell_type": "code",
   "execution_count": 242,
   "metadata": {},
   "outputs": [],
   "source": [
    "# piem., netto\n",
    "vcc_in_pref_w_st = set()\n",
    "for w in st_wordlist:\n",
    "    for p in ['atpakaļ', 'līdzās', 'priekš', 'pretim', 'līdzās', 'pret', 'līdz', 'caur', 'vis', 'pie', 'pār', 'aiz', 'pus', 'uz', 'sa', 'pa', 'no', 'ne', 'jā', 'iz', 'ie', 'at', 'ap']:\n",
    "        if w[:len(p)] == p:\n",
    "            w = w[len(p):]\n",
    "            if w[:1] == w[1:2] and w[1:2] and w[1:2] in consonants:\n",
    "                vcc_in_pref_w_st.add(w)\n",
    "vcc_in_pref_w_nost = set()\n",
    "for w in nost_wordlist:\n",
    "    for p in ['atpakaļ', 'līdzās', 'priekš', 'pretim', 'līdzās', 'pret', 'līdz', 'caur', 'vis', 'pie', 'pār', 'aiz', 'pus', 'uz', 'sa', 'pa', 'no', 'ne', 'jā', 'iz', 'ie', 'at', 'ap']:\n",
    "        if w[:len(p)] == p:\n",
    "            w = w[len(p):]\n",
    "            if w[:1] == w[1:2] and w[1:2] and w[1:2] in consonants:\n",
    "                vcc_in_pref_w_nost.add(w)"
   ]
  },
  {
   "cell_type": "code",
   "execution_count": null,
   "metadata": {},
   "outputs": [
    {
     "data": {
      "text/plain": [
       "1185"
      ]
     },
     "metadata": {},
     "output_type": "display_data"
    }
   ],
   "source": [
    "st_adj_adv_with_s = set()\n",
    "for w, p in wordlist:\n",
    "    if p in [\"Apstākļa vārds\", \"Īpašības vārds\"]:\n",
    "        if w[0] == \"s\":\n",
    "            st_adj_adv_with_s.add(stem(w))\n",
    "len(st_adj_adv_with_s)"
   ]
  },
  {
   "cell_type": "code",
   "execution_count": 19,
   "metadata": {},
   "outputs": [],
   "source": [
    "with open('./../GitHub_Faili/lang_resources/vcc_wordlist.py', 'w', encoding=\"utf8\") as f:\n",
    "    f.write('st_vcc = ' + str(st_vcc))\n",
    "    f.write('\\nnost_vcc = ' + str(nost_vcc))\n",
    "    f.write('\\nst_adjectives_with_s = ' + str(st_adj_adv_with_s))"
   ]
  },
  {
   "attachments": {},
   "cell_type": "markdown",
   "metadata": {},
   "source": [
    "# Prefixes, suffixes and word endings"
   ]
  },
  {
   "cell_type": "code",
   "execution_count": 17,
   "metadata": {},
   "outputs": [
    {
     "data": {
      "text/plain": [
       "(0, 452)"
      ]
     },
     "execution_count": 17,
     "metadata": {},
     "output_type": "execute_result"
    }
   ],
   "source": [
    "# ig -> īg\n",
    "nost_ig, st_ig = set(), set()\n",
    "for w, p in wordlist:\n",
    "    if stem(w)[-2:] == \"ig\":\n",
    "        st_ig.add(w)\n",
    "\n",
    "for w in st_wordlist:\n",
    "    if w[-2:] == \"ig\":\n",
    "        st_ig.add(w)\n",
    "len(nost_ig), len(st_ig)\n",
    "# 20, 45"
   ]
  },
  {
   "cell_type": "code",
   "execution_count": null,
   "metadata": {},
   "outputs": [],
   "source": [
    "for w in nost_wordlist:\n",
    "    if stem(w)[-2:] == \"ig\" and not stem(w) in st_wordlist:\n",
    "        print(w)"
   ]
  },
  {
   "cell_type": "code",
   "execution_count": null,
   "metadata": {},
   "outputs": [],
   "source": [
    "# nal -> nāl\n",
    "x = set()\n",
    "for w, p in wordlist:\n",
    "    if stem(w)[-3:] == \"nal\":\n",
    "\n",
    "    # # if p == \"Darbības vārds\":\n",
    "    #     for c in consonants:\n",
    "    #             # if w[-4:] == c+\"ej\"+e:\n",
    "    #             if w[-3:] == c+\"et\":\n",
    "                    x.add(w)\n",
    "len(x)"
   ]
  },
  {
   "cell_type": "code",
   "execution_count": 50,
   "metadata": {},
   "outputs": [
    {
     "data": {
      "text/plain": [
       "12"
      ]
     },
     "execution_count": 50,
     "metadata": {},
     "output_type": "execute_result"
    }
   ],
   "source": [
    "# For converting prefix pec to pēc. There is no pec_st because it only consists of 1 word – \"pec\" ||PREF||\n",
    "# pec = set()\n",
    "# for w in nost_wordlist: \n",
    "#     if w[:3] == \"pec\":\n",
    "#         pec.add(w)\n",
    "# for i in ['pec', 'pecten', 'pectinata', 'pectinatae', 'pectinatum', 'pectinatus', 'pectinicornis', 'pectinidae', 'pectorale', 'pectoralis', 'pectore', 'pectunculus', 'pectus', 'peculium', 'pecunia', 'pecus']:\n",
    "#     pec.remove(i)\n",
    "# len(pec)"
   ]
  },
  {
   "cell_type": "code",
   "execution_count": 58,
   "metadata": {},
   "outputs": [
    {
     "data": {
      "text/plain": [
       "(16, 5)"
      ]
     },
     "execution_count": 58,
     "metadata": {},
     "output_type": "execute_result"
    }
   ],
   "source": [
    "# For converting prefix ja to jā if vowel follows the prefix. \"jau...\" is excluded, since ||PREF||\n",
    "vowels = [\"a\", \"ā\", \"e\", \"ē\", \"i\", \"ī\", \"o\", \"ū\"]\n",
    "ja_v_nost, ja_v_st = set(), set()\n",
    "for w in st_wordlist:\n",
    "    for v in vowels:\n",
    "        if w[:3] == \"ja\"+v:\n",
    "            ja_v_st.add(w)\n",
    "for w in nost_wordlist:\n",
    "    for v in vowels:    \n",
    "        if w[:3] == \"ja\"+v:\n",
    "            ja_v_nost.add(w)\n",
    "\n",
    "ja_v_nost.remove(\"jaera\")\n",
    "len(ja_v_nost), len(ja_v_st)\n",
    "# After this, some words are moved to stemmed list and removed. Final list: \n",
    "# ja_v_nost = {'jaegel', 'jaera', 'jaina', 'jao'}\n",
    "# ja_v_st = {'jaan', 'jaaņ', 'jaic', 'jaik', 'jaikstin', 'jaikstiņ', 'jaikst', 'jail', 'jain', 'jaipan', 'jair', 'jairin', 'jairiņ', 'jairīt', 'jaiv', 'jaolof'}"
   ]
  },
  {
   "cell_type": "code",
   "execution_count": 237,
   "metadata": {},
   "outputs": [
    {
     "data": {
      "text/plain": [
       "(0, 0)"
      ]
     },
     "execution_count": 237,
     "metadata": {},
     "output_type": "execute_result"
    }
   ],
   "source": [
    "# Lai atrastu vārdus, kas sākas ar itkā priedēkli, kam seko itkā nepareizs preidēklis\n",
    "# piem paISums, izBESīt\n",
    "pref_bes_st, pref_bes_nost = set(), set()\n",
    "word = \"lids\"\n",
    "for w in st_wordlist:\n",
    "    w, pr = remove_prefix(w, True)\n",
    "    if word == w[:len(word)] and pr:\n",
    "        pref_bes_st.add(pr+w)\n",
    "for w in nost_wordlist:\n",
    "    w, pr = remove_prefix(w, True)\n",
    "    if word == w[:len(word)] and pr:\n",
    "        pref_bes_nost.add(pr+w)\n",
    "len(pref_bes_nost), len(pref_bes_st)"
   ]
  },
  {
   "cell_type": "code",
   "execution_count": 63,
   "metadata": {},
   "outputs": [
    {
     "data": {
      "text/plain": [
       "(15, 11, 20, 30, 149, 69, 83, 50)"
      ]
     },
     "execution_count": 63,
     "metadata": {},
     "output_type": "execute_result"
    }
   ],
   "source": [
    "# Converting prefixes that ends with \"z\" ||PREF||\n",
    "\n",
    "# For converting prefix lidz and lids to līdz \n",
    "lidz_st, lidz_nost = set(), set()\n",
    "for w in st_wordlist:\n",
    "    if w[:4] == \"lidz\":\n",
    "        lidz_st.add(w)\n",
    "for w in nost_wordlist:\n",
    "    if w[:4] == \"lidz\":\n",
    "        lidz_nost.add(w)\n",
    "\n",
    "lids_st, lids_nost = set(), set()\n",
    "for w in st_wordlist:\n",
    "    if w[:4] == \"lids\":\n",
    "        lids_st.add(w)\n",
    "for w in nost_wordlist:\n",
    "    if w[:4] == \"lids\":\n",
    "        lids_nost.add(w)\n",
    "\n",
    "lidz_nost.remove('lidz')\n",
    "lidz_nost.remove('lidzbarka') #Pilsēta Polijā (jau ir iekļauta pie _st)\n",
    "print(\"lidz_st, lidz, lids_st, lids: \", len(lidz_st), len(lidz_nost), len(lids_st), len(lids_nost))\n",
    "\n",
    "# Converting ais, bes, is, us\n",
    "ais_nost, ais_st, bes_nost, bes_st, is_nost, is_st, us_nost, us_st = set(), set(), set(), set(), set(), set(), set(), set()\n",
    "for w in st_wordlist:\n",
    "    if len(w) > 2:\n",
    "        if w[:2] == \"is\":\n",
    "            is_st.add(w)\n",
    "        if w[:2] == \"us\":\n",
    "            us_st.add(w)\n",
    "        if len(w) > 3:\n",
    "            if w[:3] == \"ais\":\n",
    "                ais_st.add(w)\n",
    "            # if w[:3] == \"bes\":\n",
    "            #     bes_st.add(w)\n",
    "for w in nost_wordlist:\n",
    "    if len(w) > 2:\n",
    "        if w[:2] == \"is\":\n",
    "            is_nost.add(w)\n",
    "        if w[:2] == \"us\":\n",
    "            us_nost.add(w)\n",
    "        if len(w) > 3:\n",
    "            if w[:3] == \"ais\":\n",
    "                ais_nost.add(w)\n",
    "            # if w[:3] == \"bes\":\n",
    "            #     bes.add(w)\n",
    "# bes.remove(\"bessianum\")\n",
    "\n",
    "for i in ['islandes', 'isabellina', 'isoetopsida', 'isochrysidaceae', 'isogeneratophyceae', 'isabellinus', 'isariopsis', 'ischnura', 'isothecium', 'ischaemum', 'isoachlya', 'ischias', 'islaya', 'isospora', 'islayensis', 'isophylla', 'ischnopsyllus', 'isvintenu']\n",
    "    is_nost.remove(i)\n",
    "for i in ['usque', 'ustilaginales', 'usitatissimum', 'usnea', 'ustulina', 'usuriensis', 'usneoides', 'usneaceae']:\n",
    "    us_nost.remove(i)\n",
    "print(\"ais, ais_st, bes, bes_st, is, is_st, us, us_st:\", len(ais_nost), len(ais_st), len(bes_nost), len(bes_st), len(is_nost), len(is_st), len(us_nost), len(us_st))\n",
    "\n",
    "# Updating with old Latvian characters (\"zt\", \"zd\", \"zp\" if they are not in prefix; \"ee\" and \"tš\", \"tž\"):\n",
    "for w in ais_nost | ais_st | bes_nost | bes_st | is_nost | is_st | us_nost | us_st | lidz_nost | lidz_st | lids_nost | lids_st | ais_nost | ais_st | bes_nost | bes_st | is_nost | is_st | us_nost | us_st:\n",
    "    if \"ie\" in w:\n",
    "        print(w, w.replace(\"ie\", \"ee\".upper()), \" |ie| \", w.replace(\"ie\", \"ee\"))\n",
    "\n",
    "    if \"č\" in w:\n",
    "        print(w, w.replace(\"č\", \"tš\".upper()), \" |tš| \", w.replace(\"č\", \"tš\"))\n",
    "    if \"č\" in w:\n",
    "        print(w, w.replace(\"č\", \"tž\".upper()), \" |tž| \", w.replace(\"č\", \"tž\"))\n",
    "    \n",
    "    if \"h\" in w:\n",
    "        print(w, w.replace(\"h\", \"ch\".upper()), \" |h| \", w.replace(\"h\", \"ch\"))\n",
    "\n",
    "    if \"st\" in w:\n",
    "        print(w, w.replace(\"st\", \"zt\".upper()), \" |st| \", w.replace(\"st\", \"zt\"))\n",
    "    if \"sd\" in w:\n",
    "        print(w, w.replace(\"sd\", \"zd\".upper()), \" |sd| \", w.replace(\"sd\", \"zd\"))\n",
    "    if \"sp\" in w:\n",
    "        print(w, w.replace(\"sp\", \"zp\".upper()), \" |sp| \", w.replace(\"sp\", \"zp\"))\n",
    "ja_v_st.update(['jaikzt', 'jaikztin', 'jaikztiņ'])\n",
    "lids_st.update('lidzpalv', 'lidzpēj', 'lidsabeedrib', 'lidsabeedrīb')\n",
    "ais_nost.update(['aisteeši', 'aisterneeki', 'aisītees'])\n",
    "ais_st.update(['beserētees', 'besteneeki', 'aischils'])\n",
    "bes_st.update(['besazeed'])\n",
    "bes_nost.update('bestenchof')\n",
    "is_nost.update(['ischāks', 'isichija', 'ischēmiskais', 'isichazma', 'ischakzaji', 'ischēmiskā', 'istabazpuķe', 'ispleikzt', 'isreedneeki', 'istalsneeši', 'istabneeks', 'isleenas', 'isnaudeeši', 'istreeši', 'istabasleetas', 'istabazdurvis', 'iskolaztrels', 'ismaēleeši', 'iskreeši', 'istabazduris', 'istabaspreekša', 'istabazpriekša', 'islandeešu', 'istžavkaķ', 'istšavkaķ', 'isatženko', 'isatšenko', 'istaštžīt', 'istaštšīt'])\n",
    "is_st.update(['islandeet', 'islakristin', 'istabpreekš', 'istableet', 'isleen', 'isteej', 'isatženk', 'isatšenk', 'islāmšachr', 'istrascch', 'isfachān', 'islachij', 'isperich', 'isdžechisar'])\n",
    "us_nost.update(['ustjeeši', 'ustroneeši', 'ustabneeku', 'uszp', 'usteeši', 'ustabpreekša', 'usmeneeki', 'uskatševas', 'uskatževas'])\n",
    "us_st.update(['ustjkatšk', 'ustjkatžk', 'uskatšov', 'uskatžov', 'ustiluch', 'uscchwald', 'uscchwalden'])"
   ]
  },
  {
   "cell_type": "markdown",
   "metadata": {},
   "source": [
    "### Endings"
   ]
  },
  {
   "cell_type": "code",
   "execution_count": 51,
   "metadata": {},
   "outputs": [
    {
     "data": {
      "text/plain": [
       "(139, 48)"
      ]
     },
     "execution_count": 51,
     "metadata": {},
     "output_type": "execute_result"
    }
   ],
   "source": [
    "# c_ib\n",
    "ib_st, ib_nost = set(), set()\n",
    "for w in nost_wordlist:\n",
    "    w, pref = remove_prefix(w, True)\n",
    "    st_w = stem(w)\n",
    "    if len(st_w)>2 and st_w[-3] in consonants and st_w[-2:] == \"ib\":\n",
    "        ib_nost.add(w)\n",
    "for w in st_wordlist:\n",
    "    w, pref = remove_prefix(w, True)\n",
    "    if len(w)>2 and w[-3] in consonants and w[-2:] == \"ib\":\n",
    "        ib_st.add(w)\n",
    "len(ib_nost), len(ib_st),"
   ]
  },
  {
   "cell_type": "code",
   "execution_count": 52,
   "metadata": {},
   "outputs": [
    {
     "data": {
      "text/plain": [
       "(1164, 381)"
      ]
     },
     "execution_count": 52,
     "metadata": {},
     "output_type": "execute_result"
    }
   ],
   "source": [
    "# ak\n",
    "ak_nost, ak_st = set(), set()\n",
    "for w in nost_wordlist:\n",
    "    w, pref = remove_prefix(w, True)\n",
    "    st_w = stem(w)\n",
    "    if len(st_w) > 2:\n",
    "        if st_w[-2:] == \"ak\":\n",
    "            ak_nost.add(w)\n",
    "for w in st_wordlist:\n",
    "    w, pref = remove_prefix(w, True)\n",
    "    # There is problem with \"pasaka\". After removing pref, w is \"k\" which does not end with \"ak\"\n",
    "    if len(w) > 2:\n",
    "        if w[-2:] == \"ak\":\n",
    "            ak_st.add(w)\n",
    "len(ak_nost), len(ak_st)"
   ]
  },
  {
   "cell_type": "code",
   "execution_count": 165,
   "metadata": {},
   "outputs": [
    {
     "data": {
      "text/plain": [
       "(21, 26)"
      ]
     },
     "execution_count": 165,
     "metadata": {},
     "output_type": "execute_result"
    }
   ],
   "source": [
    "# c_sv_šan\n",
    "short_v = [\"a\", \"e\", \"i\", \"u\"]\n",
    "long_v = [\"ā\", \"ē\", \"ī\", \"ū\"]\n",
    "vowels = {\"a\", \"e\", \"i\", \"o\", \"u\", \"ā\", \"ē\", \"ī\", \"ū\"}\n",
    "c_sv_san_nost, c_sv_san_st = set(), set()\n",
    "for w in nost_wordlist:\n",
    "    w, pref = remove_prefix(w, True)\n",
    "    st_w = stem(w)\n",
    "    if len(st_w) > 5:\n",
    "        if st_w[-5] in consonants and st_w[-4] in short_v and st_w[-3:] == \"šan\":\n",
    "            c_sv_san_nost.add(w)\n",
    "\n",
    "for w in st_wordlist:\n",
    "    w, pref = remove_prefix(w, True)\n",
    "    if len(w) > 5:\n",
    "        if w[-5] in consonants and w[-4] in short_v and w[-3:] == \"šan\":\n",
    "            c_sv_san_st.add(w)\n",
    "# len(c_sv_san_st), len(c_sv_san_nost): 10; 26\n",
    "\n",
    "I_conj = {'atģisties', 'pasākt', 'pamosties', 'nobeigties', 'iztikt', 'novilkt', 'triekties', 'pārģērbt', 'izgāzties', 'uzvilkt', 'šķiest', 'spēt', 'kalt', 'sanākt', 'izspiest', 'novelties', 'uzkārties', 'izlīst', 'pārvilkt', 'saprast', 'apklāt', 'atstiept', 'uzsnigt', 'mosties', 'iesvilties', 'sagrābt', 'sagrūt', 'palūgt', 'reibt', 'noklāt', 'uzbraukt', 'izklīst', 'pielikt', 'ievilkties', 'dūkt', 'apņemties', 'pastiept', 'izgriezt', 'atgriezties', 'riebties', 'sažūt', 'sadegt', 'apgrauzt', 'aizslēgties', 'sacept', 'ielaist', 'iekļauties', 'izslēgties', 'noliet', 'sakrāties', 'nosūkt', 'nopūsties', 'saspringt', 'ieslīgt', 'ieplūst', 'uzart', 'vilties', 'plaukt', 'nīst', 'noliekties', 'ieslēgties', 'mulst', 'noņemt', 'pielauzt', 'ieskriet', 'pārlauzt', 'nobrēkties', 'nosmieties', 'sapērt', 'ģērbt', 'pārciest', 'atzīties', 'sākties', 'pietikt', 'ienīst', 'nodzīt', 'izbeigties', 'nocirst', 'jozt', 'pamāt', 'pārspēt', 'savīt', 'kost', 'rakt', 'lieties', 'pūt', 'steigties', 'piesmelt', 'pāršķelt', 'nirt', 'vākt', 'nosvērties', 'liet', 'nokult', 'saplīst', 'izgrūst', 'apsvilt', 'iesēt', 'liegties', 'piezagties', 'pieliet', 'prast', 'nozvelties', 'aizvilkt', 'plūkt', 'pakārt', 'slābt', 'salīt', 'sarkt', 'kliegt', 'aizrīties', 'tiepties', 'ciesties', 'ielikties', 'nosaukt', 'justies', 'aizdrāzties', 'smakt', 'izsūkt', 'izlikties', 'uzvilkties', 'sajukt', 'nociesties', 'saglābt', 'iesaukt', 'pārkalst', 'izvest', 'apstāties', 'cept', 'blenzt', 'apmesties', 'lūgties', 'iedvest', 'lauzt', 'pieliekties', 'novest', 'piešķirt', 'atrast', 'paspēt', 'iegūt', 'beigties', 'izbeigt', 'atsiet', 'dīgt', 'piekāpties', 'nosmiet', 'uzziest', 'iekost', 'sazagt', 'aizkraut', 'izvelties', 'novīt', 'ievest', 'šļūkt', 'mīt', 'piesisties', 'brist', 'nodot', 'uzšūt', 'pasprukt', 'iebāzt', 'atvilkt', 'iegrauzties', 'nomīt', 'piesnigt', 'atklāt', 'sacensties', 'velties', 'sasprāgt', 'iesākt', 'gulties', 'sabīties', 'izkulties', 'pāraugt', 'iebraukt', 'apreibt', 'iešļūkt', 'izvilkt', 'pievērt', 'aizsniegt', 'pamest', 'izplaukt', 'nostiept', 'satikties', 'aizdzīt', 'norīt', 'pārplēst', 'aplēst', 'uzsākt', 'salt', 'nokrist', 'saprasties', 'slēpties', 'ietvert', 'izstiept', 'pagaist', 'velt', 'iesēsties', 'apkampties', 'sapazīties', 'uzdzīt', 'sagult', 'gaist', 'sanest', 'nākt', 'jaukt', 'pateikties', 'sasvīst', 'atgrūst', 'iejaukties', 'aizgriezt', 'aizskart', 'apcelt', 'gausties', 'izslēgt', 'nojukt', 'noreibt', 'atmaigt', 'ģērbties', 'nokalst', 'šūt', 'nozvelt', 'noslāpt', 'aizvērt', 'bēgt', 'braukt', 'sakāpt', 'pūst', 'pieņemties', 'stāties', 'nonākt', 'sakrāt', 'noņemties', 'aizbēgt', 'iedūkties', 'vērst', 'aizsaukt', 'pabērt', 'jāt', 'atkāpties', 'noliegt', 'izcelties', 'segt', 'cepties', 'klāt', 'apsvīst', 'iegulties', 'atpūsties', 'apmulst', 'iekarst', 'pazust', 'kalst', 'ķert', 'noģērbties', 'karst', 'ņirgt', 'iesūkties', 'piešļūkt', 'iekrauties', 'ieknābt', 'just', 'noģērbt', 'izdzīt', 'iezagties', 'pievērst', 'uznest', 'spert', 'izsvīst', 'stiept', 'burties', 'pirkt', 'nomesties', 'nākties', 'aizņemt', 'iepūt', 'uzkliegt', 'kopt', 'uzmesties', 'iesnausties', 'nogāzties', 'sakopties', 'saslēgt', 'pārtikt', 'samirkt', 'izzust', 'izlauzt', 'aiziet', 'padzert', 'pārplūst', 'piesmiet', 'atriebties', 'durties', 'saplēst', 'apgūt', 'apsvērt', 'sakulties', 'uzkrist', 'sariesties', 'ielauzties', 'ieiet', 'pieciest', 'piebērt', 'dzert', 'censties', 'satīt', 'aizmirst', 'nodūkt', 'art', 'nosviest', 'ienākt', 'ilgt', 'sist', 'snigt', 'sasnigt', 'rakties', 'sasalt', 'dzimt', 'pakļauties', 'ielūzt', 'iedot', 'piemest', 'izņemt', 'saplēsties', 'nobriest', 'notvert', 'cirpt', 'gāzties', 'aizrakt', 'pļaut', 'aiznesties', 'bāzt', 'izsmieties', 'spraust', 'atteikt', 'patriekt', 'piesarkt', 'apskaut', 'spriest', 'ierasties', 'sarukt', 'salipt', 'izsalt', 'nosēsties', 'piegrauzt', 'lēkt', 'nosvērt', 'apaut', 'rāt', 'birt', 'jaukties', 'izdurties', 'vērties', 'izvelt', 'piebraukt', 'svilt', 'nocirpt', 'izklāt', 'iedzīt', 'pievilt', 'izlaist', 'noaut', 'pārkraut', 'ieliet', 'iegrūst', 'noburt', 'sadurt', 'novelt', 'iekulties', 'izkrauties', 'pasniegt', 'atmest', 'sakraut', 'sviest', 'paust', 'sašūt', 'lemt', 'aizcirsties', 'mirkt', 'iziet', 'pieiet', 'padot', 'aizsniegties', 'ieplīst', 'raut', 'sasēsties', 'aizrauties', 'nosnaust', 'izšķiest', 'pārbēgt', 'noskūt', 'iešūt', 'iedurt', 'būt', 'izbērt', 'aizsprukt', 'saglaust', 'slīkt', 'satikt', 'ietīt', 'nodzēst', 'iespraukties', 'izsvērt', 'saiet', 'noplēst', 'uzsūkt', 'piesēst', 'sabārties', 'aut', 'savelt', 'nošķirt', 'iznirt', 'nozust', 'atlipt', 'sastrēgt', 'notīt', 'norēkties', 'noķert', 'pateikt', 'pievest', 'pāršļūkt', 'pieļaut', 'izlikt', 'pievilkt', 'kārt', 'iekārt', 'salaist', 'pieteikties', 'izpērties', 'aizlēkt', 'pārliet', 'izgrauzties', 'apspļaut', 'nolemt', 'pārtvert', 'satraukties', 'jukt', 'izsaukties', 'pārtapt', 'apvest', 'izšūt', 'izcirst', 'ieklāt', 'saplūkt', 'mirt', 'nobļaut', 'salauzt', 'vākties', 'noveikties', 'apspriest', 'svīst', 'pieslēgt', 'aizlikt', 'bērt', 'pieteikt', 'izdot', 'izsiet', 'pārbrist', 'pieklāties', 'izšļākt', 'aptīt', 'nopelt', 'pārlaist', 'piedzerties', 'pārraut', 'atgulties', 'izbēgt', 'ataugt', 'grauzt', 'izsviest', 'aizmigt', 'izbērties', 'izcelt', 'izlauzties', 'atlaist', 'pakārties', 'pārdurties', 'ierauties', 'ļauties', 'sabraukt', 'izkalt', 'sisties', 'nokaut', 'notriekt', 'sakliegt', 'aizvākt', 'sakopt', 'grimt', 'nokust', 'uzķerties', 'pārvest', 'iestiept', 'skūties', 'padzerties', 'kniebt', 'līst', 'izrauties', 'izbrist', 'nogrūst', 'iesist', 'uzlīt', 'krāpties', 'nopirkt', 'uzspēt', 'apjaust', 'piekliegt', 'noteikt', 'kampt', 'sacirst', 'noaugt', 'lēst', 'pagriezties', 'apšļākt', 'pasteigties', 'nokampt', 'pietrūkt', 'laist', 'lipt', 'nokost', 'izvērt', 'iedzert', 'pierast', 'rasties', 'sajust', 'zviegt', 'mēgt', 'piesist', 'apskaust', 'pienest', 'ienest', 'griezt', 'pazīt', 'atzīt', 'iepirkt', 'atspiesties', 'šaut', 'sarasties', 'piebilst', 'apģērbt', 'izlēkt', 'palikt', 'kaut', 'piekrist', 'uzgriezt', 'ietriekt', 'tērpt', 'šļākties', 'nopērties', 'novērst', 'uzdot', 'nosisties', 'plēst', 'sakarst', 'pieliekt', 'pārcelties', 'izlemt', 'ielīst', 'sakrist', 'atdot', 'saķert', 'aizsvīst', 'klīst', 'sabārt', 'izmesties', 'ņemties', 'ieskaut', 'pieskriet', 'nolikt', 'nosist', 'izkalst', 'nozagt', 'izdzert', 'atskārst', 'noplūst', 'aiznest', 'noplūkt', 'liekties', 'samulst', 'pārgāzt', 'ieklīst', 'noskriet', 'izkārt', 'pārkrist', 'izpaust', 'sajaukt', 'izstiepties', 'atstāt', 'saliet', 'izdoties', 'celt', 'aizcirst', 'sadzīt', 'pārvērsties', 'atvērt', 'grūst', 'ienirt', 'iegriezt', 'izliet', 'plīst', 'vilkties', 'piepūst', 'aizjozt', 'griezties', 'atnesties', 'aizklāt', 'uzaugt', 'izzagt', 'iespļaut', 'sagulties', 'ēst', 'bāzties', 'aizsnausties', 'piekopt', 'saģērbties', 'pārsēsties', 'spiest', 'izcept', 'izrakt', 'apkrāpt', 'iestumt', 'sastapt', 'raukt', 'doties', 'iesmelt', 'sakārt', 'apriebties', 'sasieties', 'savākties', 'piekrāpt', 'izsist', 'apzagt', 'augt', 'jēgt', 'ieaugt', 'pakāpties', 'brukt', 'atrauties', 'atcelt', 'piekļaut', 'izjaukt', 'izjukt', 'pārkost', 'sasniegt', 'dzīties', 'ievākties', 'sagriezt', 'sacirpt', 'līt', 'pārkarst', 'uzdoties', 'nomākt', 'palaist', 'rēkt', 'padzīt', 'sakauties', 'iegrauzt', 'riet', 'pielūgt', 'uztraukties', 'bīties', 'izglābt', 'aizbraukt', 'nobristies', 'pielīst', 'pagūt', 'iekraut', 'iztriekt', 'sasaukt', 'aizvērties', 'saraukt', 'atsist', 'pārkāpt', 'uzbriest', 'izbāzt', 'sasmelt', 'pārsvērt', 'uzveikt', 'lauzties', 'aizaugt', 'izspļaut', 'paciest', 'uznākt', 'uzsvērt', 'pieņemt', 'apiet', 'noriet', 'aizšūt', 'šķist', 'pārkalt', 'svērt', 'sakampties', 'paēst', 'apsveikt', 'lekties', 'plūst', 'noskūties', 'nolaist', 'izstāties', 'piesteigties', 'saņemties', 'aizkrist', 'piejaukt', 'iespēt', 'grābt', 'pārlikt', 'pārnākt', 'aizšļūkt', 'aizvilkties', 'noklīst', 'izteikt', 'izkust', 'pārcirst', 'izteikties', 'pieēst', 'uzraut', 'izdegt', 'pielēkt', 'sastapties', 'nospert', 'nosnausties', 'piesalt', 'iesniegt', 'piekalst', 'piepūsties', 'krāties', 'izjust', 'piesegties', 'iedegt', 'sakaut', 'nograuzt', 'sakalst', 'iesviest', 'atsteigties', 'pārbīties', 'uzdurties', 'pieaugt', 'sēt', 'sabāzt', 'pakampt', 'rast', 'sazagties', 'pieķert', 'piekalt', 'smieties', 'izvākties', 'sasaukties', 'pasaukt', 'iegrimt', 'iesprūst', 'sasiet', 'atvilkties', 'rīt', 'sagrauzt', 'ziest', 'noliekt', 'aizņemties', 'izskaust', 'strēbt', 'nolikties', 'triekt', 'izcepties', 'apjukt', 'durt', 'izmirkt', 'izsprukt', 'slēgt', 'krāpt', 'tapt', 'pārstāt', 'iespraust', 'glābties', 'aizslēgt', 'iekalt', 'tikties', 'nolauzt', 'aptvert', 'nolēkt', 'pagriezt', 'nošauties', 'atslēgties', 'izstumt', 'smiet', 'pārskriet', 'pārvelties', 'malties', 'vērsties', 'aizšķirt', 'pakļūt', 'nīkt', 'novākt', 'nest', 'migt', 'nodzerties', 'nonest', 'nosarkt', 'paveikt', 'aiztraukties', 'piesieties', 'apgriezties', 'pārdegt', 'atslābt', 'noslīkt', 'trūkt', 'atvest', 'iekaist', 'ievākt', 'panīkt', 'celties', 'zagties', 'izpērt', 'atsisties', 'nodegt', 'aizķert', 'uzcelt', 'piecelties', 'piekārt', 'savīst', 'iet', 'aizvest', 'saplūkties', 'uzmākties', 'iekniebt', 'uzklāt', 'ieilgt', 'malt', 'ķerties', 'ierieties', 'saukt', 'pārliekties', 'uzrasties', 'rauties', 'nokopt', 'uzmest', 'nokārt', 'pāršūt', 'panākt', 'sniegt', 'sēsties', 'skumt', 'pārģērbties', 'ielikt', 'smelt', 'izģērbties', 'vīt', 'izžūt', 'pārsniegt', 'izpārdot', 'iesaukties', 'atņemt', 'nobraukt', 'piedzimt', 'bļaut', 'lūzt', 'atgūt', 'izprast', 'izplīst', 'nosmelt', 'apsēsties', 'iemest', 'pacelties', 'izgrauzt', 'iesūkt', 'dot', 'atlikt', 'aizliegt', 'tīt', 'saraut', 'sabrēkt', 'atbraukt', 'sakult', 'saklāt', 'piešauties', 'savilkt', 'pārcensties', 'pieskaut', 'iegriezties', 'sakurt', 'aizklāties', 'nolaisties', 'noslēpt', 'ieņemt', 'aizspert', 'pārcelt', 'piesiet', 'sūkt', 'aplieties', 'uzkopt', 'iegāzt', 'uztvert', 'izgaist', 'nospļauties', 'izkrist', 'burt', 'atslēgt', 'nosalt', 'aizstāt', 'salikt', 'izraut', 'uztīt', 'izsmelt', 'noskaisties', 'glābt', 'stumt', 'apēst', 'piespļaut', 'ielūgt', 'apmākties', 'apsmiet', 'pārēsties', 'nočiept', 'noraut', 'šķirties', 'uzplīties', 'iesteigties', 'traukties', 'māt', 'atģist', 'atsperties', 'nogulties', 'apķert', 'nogāzt', 'dzēst', 'nogurt', 'sabeigt', 'glausties', 'sagraut', 'izgāzt', 'piemesties', 'izbrukt', 'ļaut', 'iemigt', 'izknābt', 'sajozt', 'atkrist', 'atrasties', 'attapties', 'izšķirties', 'kauties', 'paveikties', 'iznīkt', 'pārdurt', 'iekrist', 'kraut', 'piesūkties', 'nobrēkt', 'pielīt', 'lēkties', 'aplikt', 'izbīties', 'nokāpt', 'uzspiest', 'ietiepties', 'nesties', 'krist', 'pārtraukt', 'aizliet', 'pārsviest', 'pārvērst', 'plēsties', 'pārsaukt', 'notikt', 'iestāties', 'norauties', 'izglābties', 'piekāpt', 'slēgties', 'pārdot', 'piedot', 'atnest', 'pielipt', 'iztriekties', 'veikt', 'saņemt', 'tērpties', 'aiztikt', 'iebrukt', 'skriet', 'uzlauzt', 'sadurties', 'pienākt', 'apkampt', 'izliekties', 'izlaisties', 'kļūt', 'pērties', 'kāpt', 'aizbērt', 'pārtīt', 'sniegties', 'izvākt', 'nolīt', 'iekļaut', 'pērt', 'paņemt', 'salīst', 'piekaut', 'nogriezties', 'grūt', 'iedurties', 'samalt', 'uzkarst', 'pārlēkt', 'apģērbties', 'smelties', 'sašļukt', 'beigt', 'izkļūt', 'aizvākties', 'atbilst', 'nošļākt', 'knābt', 'atšķirties', 'noklāties', 'ievilkt', 'izcirpt', 'nodurt', 'sasist', 'nožūt', 'sabļaut', 'noprast', 'gūt', 'pelt', 'uzstāt', 'iebilst', 'mest', 'piestāt', 'ielēkt', 'bārt', 'sprukt', 'plūkties', 'skūt', 'paiet', 'apjēgt', 'novērsties', 'apliet', 'degt', 'piegriezties', 'pierīties', 'ciest', 'pārsist', 'iekurt', 'drāzties', 'izsaukt', 'saģērbt', 'noriebties', 'iecirst', 'uzsist', 'kult', 'piebāzt', 'nopērt', 'apcept', 'uzņemties', 'atšķirt', 'pārslēgt', 'ietilpt', 'vīst', 'novīst', 'likties', 'noknābt', 'izspraukties', 'pievērsties', 'aizķerties', 'saslimt', 'liekt', 'apsegt', 'diegt', 'sašķelt', 'sakampt', 'nogrimt', 'izdzēst', 'atsaukties', 'izaugt', 'iepazīt', 'apbraukt', 'iekļūt', 'izdrāzties', 'pielikties', 'izdurt', 'pāriet', 'uzkāpt', 'izkāpt', 'apsegties', 'atsākt', 'satraukt', 'mesties', 'izsēsties', 'sabrist', 'piesēsties', 'iesprukt', 'samest', 'nospiest', 'nojaust', 'svērties', 'padoties', 'iekāpt', 'apmest', 'sapūt', 'nojaukt', 'nošķelt', 'siet', 'apieties', 'pavilkt', 'uzsaukt', 'izspert', 'nosvilt', 'izkraut', 'patverties', 'uzmīt', 'pabeigties', 'nosūkties', 'slāpt', 'izplēst', 'sasirgt', 'rieties', 'pacelt', 'pieēsties', 'krāt', 'kust', 'stiepties', 'pasnaust', 'šķelt', 'vērt', 'posties', 'pārmest', 'nopļaut', 'pārnest', 'zvelt', 'iesvilt', 'pārmirkt', 'palaisties', 'ieskrieties', 'uzlikt', 'pārslēgties', 'žūt', 'aizsalt', 'šķelties', 'apkopt', 'pieķerties', 'čiept', 'izbraukt', 'klāties', 'nošaut', 'ņemt', 'savelties', 'atsākties', 'pārplīst', 'aizbļaut', 'uzstāties', 'aizsmakt', 'piekļūt', 'iepazīties', 'pārgrauzt', 'ietriekties', 'ieviest', 'pagrūst', 'iezviegties', 'piesaukt', 'vest', 'attiekties', 'sveikt', 'iepirkties', 'izšķirt', 'izšļākties', 'atraut', 'rāpties', 'nomirt', 'ieslēgt', 'gāzt', 'sašķelties', 'iejusties', 'graut', 'noplīst', 'iestrēgt', 'izsisties', 'nokristies', 'pieslēgties', 'izstrēbt', 'nošļukt', 'apsnigt', 'kulties', 'izsmiet', 'apdzīt', 'aizskriet', 'grauzties', 'atvērties', 'atļaut', 'sabrukt', 'teikt', 'atsaukt', 'izciest', 'ieteikt', 'nomest', 'veikties', 'iebēgt', 'izpirkt', 'sanīkt', 'pieklīst', 'zagt', 'sarauties', 'nopūt', 'pārsteigt', 'bārties', 'uzkost', 'pārliekt', 'skaust', 'atiet', 'atteikties', 'tvert', 'pielaist', 'slēpt', 'sprūst', 'atsieties', 'paļauties', 'iecelt', 'pārknābt', 'salēkt', 'noslēgt', 'atriebt', 'iespert', 'saaugt', 'iedegties', 'pārgriezt', 'iepatikties', 'uzvesties', 'pieveikt', 'spļaut', 'samesties', 'pievākt', 'nokliegties', 'nolīst', 'pieglausties', 'dzīt', 'snaust', 'briest', 'pārkrauties', 'lūgt', 'tverties', 'uzrauties', 'uzņemt', 'pārrauties', 'sasisties', 'steigt', 'uzsūkties', 'viest', 'apgriezt', 'izsniegt', 'apburt', 'apriet', 'iegāzties', 'piesegt', 'applūst', 'pārsmieties', 'sirgt', 'izģērbt', 'noslēpties', 'ievērt', 'sākt', 'likt', 'ievīt', 'riebt', 'sastingt', 'iebrist', 'aizdot', 'vilkt', 'nocelt', 'pabeigt', 'uztraukt', 'sviesties', 'nokļūt', 'aiztriekties', 'izdīgt', 'aizlauzt', 'piespriest', 'piegult', 'piekļauties', 'satvert', 'nošļūkt', 'ieraut', 'izkārties', 'uzplaukt', 'šļākt', 'apnikt', 'ierēkties', 'nolieties', 'tikt', 'ieriebt', 'savākt', 'iekliegties', 'izšļūkt', 'pārsalt', 'cirst', 'iekopt', 'glaust', 'izbāzties', 'liegt', 'samīt', 'aizlikties', 'iešauties', 'aprīt', 'iesākties', 'uziet', 'pieglaust', 'apjozt', 'nosmakt', 'noiet', 'pabraukt', 'nobrukt', 'skart', 'izkopt', 'brēkt', 'apspiest', 'aizsteigties', 'nošūt', 'nosegt', 'nosvīst', 'uzcept', 'uzbrukt', 'nostāties', 'iekrāt', 'uzcirsties', 'piespiest', 'iedrāzties', 'pārlīst', 'apcepties', 'patikt', 'zust', 'aizmest', 'izsteigties', 'nospriest', 'atļauties', 'izkrāpt', 'pārbraukt', 'atnākt', 'piešūt', 'nogriezt', 'nobīties', 'nozviegties', 'tiekties', 'šķirt', 'iebērt', 'izķert', 'piedzīt', 'mīties', 'noskumt', 'izmest', 'šļukt'}\n",
    "for w in I_conj:\n",
    "    if w[-2:] == \"st\":\n",
    "        w = w[:-2]\n",
    "    else:\n",
    "        continue\n",
    "    if len(w)>1 and w[-2] in consonants and w[-1] in short_v:\n",
    "        w, pref = remove_prefix(w, True)\n",
    "        c_sv_san_st.add(w+\"šan\")\n",
    "\n",
    "len(c_sv_san_st), len(c_sv_san_nost)"
   ]
  },
  {
   "cell_type": "code",
   "execution_count": 195,
   "metadata": {},
   "outputs": [
    {
     "data": {
      "text/plain": [
       "(10, 2, 3, 17)"
      ]
     },
     "execution_count": 195,
     "metadata": {},
     "output_type": "execute_result"
    }
   ],
   "source": [
    "# v_taj\n",
    "sv_taj_st, sv_taj_nost = set(), set()\n",
    "for w in st_wordlist:\n",
    "    if len(w)>3 and w[-4] in short_v and w[-3:] == \"taj\":\n",
    "        w, pref = remove_prefix(w, True)\n",
    "        sv_taj_st.add(w)\n",
    "        \n",
    "for w in nost_wordlist:\n",
    "    w_st = stem(w)\n",
    "    if len(w_st)>3 and w_st[-4] in short_v and w_st[-3:] == \"taj\":\n",
    "        w, pref = remove_prefix(w, True)\n",
    "        sv_taj_nost.add(w)\n",
    "        \n",
    "\n",
    "sv_tāj_st, sv_tāj_nost = set(), set()\n",
    "for w in st_wordlist:\n",
    "    if len(w)>3 and w[-4] in short_v and w[-3:] == \"tāj\":\n",
    "        w, pref = remove_prefix(w, True)\n",
    "        sv_tāj_st.add(w)\n",
    "\n",
    "for w in nost_wordlist:\n",
    "    w_st = stem(w)\n",
    "    if len(w_st)>3 and w_st[-4] in short_v and w_st[-3:] == \"tāj\":\n",
    "        w, pref = remove_prefix(w, True)\n",
    "        sv_tāj_nost.add(w)\n",
    "\n",
    "# There are no words in nost_wordlist that ends with lv + \"tāj\"\n",
    "# There are no words in st_wordlist that ends with lv + \"taj\" (exc: 'botētaj', 'birzētaj', 'šreģistrētaj' which are written incorrectly)\n",
    "\n",
    "len(sv_taj_st), len(sv_taj_nost), len(sv_tāj_st), len(sv_tāj_nost)"
   ]
  },
  {
   "cell_type": "code",
   "execution_count": 37,
   "metadata": {},
   "outputs": [],
   "source": [
    "with open('./../GitHub_Faili/lang_resources/w_prefixs_endings.py', 'w', encoding=\"utf8\") as f:\n",
    "    f.write('pref = ' + str(pref))\n",
    "    f.write('\\n'+'pref_exc_aiz = ' + str(pref_exc_aiz))\n",
    "    f.write('\\n'+'pref_exc_bez = ' + str(pref_exc_bez))\n",
    "    f.write('\\n'+'pref_exc_iz = ' + str(pref_exc_iz ))\n",
    "    f.write('\\n'+'pref_exc_uz = ' + str(pref_exc_uz ))\n",
    "\n",
    "\n",
    "    f.write('\\n'+'ib_exc_st = ' + str(ib_exc_st))\n",
    "    f.write('\\n'+'ib_exc_nost = ' + str(ib_exc_nost))\n",
    "\n",
    "    f.write('\\n'+'c_v_san = ' + str(c_v_san))\n",
    "    \n",
    "    f.write('\\n'+'v_taj = ' + str(v_taj))\n",
    "    f.write('\\n'+'sv_taj = ' + str(sv_taj))\n",
    "\n",
    "    # f.write('\\n'+'c_v_t = ' + str(c_v_t))\n",
    "    # f.write('\\n'+'c_v_j = ' + str(c_v_j))\n"
   ]
  },
  {
   "cell_type": "markdown",
   "metadata": {},
   "source": [
    "##### Letter conversion"
   ]
  },
  {
   "cell_type": "code",
   "execution_count": 66,
   "metadata": {},
   "outputs": [],
   "source": [
    "# Removes prefix ||PREF||\n",
    "def remove_prefix(w, rm_all=True):\n",
    "    for p in ['atpakaļ', 'līdzās', 'priekš', 'pretim', 'līdzās', 'pret', 'līdz', 'caur', 'vis', 'pie', 'pār', 'aiz', 'pus', 'uz', 'sa', 'pa', 'no', 'ne', 'jā', 'iz', 'ie', 'at', 'ap']:\n",
    "        # Takes each prefix from \"w_p_e.pref\" list and checks if word starts with it. Measures prefix length (taken from the list) and checks that many first letters in the word; if they match, prefix is removed\n",
    "        if w[:len(p)] == p:\n",
    "            nopref_w = w[len(p):]\n",
    "\n",
    "            # the minimal length of word without prefix is 2, because the input words can be stemmed. e.g., \"neas\" from word \"neass\"\n",
    "            if len(nopref_w)<=1:\n",
    "                return (w, \"\")\n",
    "\n",
    "            #  if property rm_all is set to False, word without a prefix and removed prefix is returned. If not, the rest of the prefixes will be removed from word and returned\n",
    "            if not rm_all:\n",
    "                return (nopref_w, p)\n",
    "            \n",
    "            # To remove the remaining prefixes, remove_prefix() function is called. Both its values are returned, but before the second value returned prefix is added\n",
    "            new_w, new_p = remove_prefix(nopref_w)\n",
    "            return (new_w, p + new_p)\n",
    "    # If word dont have any prefix, word with nothing is returned\n",
    "    return (w, \"\")"
   ]
  },
  {
   "cell_type": "code",
   "execution_count": 389,
   "metadata": {},
   "outputs": [],
   "source": [
    "# ZT→ST, ZD→SD, ZP→SP ||PREF||\n",
    "z_tdp_exc = {}\n",
    "z_tdp_exc[\"zt_nost\"], z_tdp_exc[\"zd_nost\"], z_tdp_exc[\"zp_nost\"] = set(), set(), set()\n",
    "z_tdp_exc[\"zt_st\"], z_tdp_exc[\"zd_st\"], z_tdp_exc[\"zp_st\"] = set(), set(), set()\n",
    "z_tdp_dict_nost, z_tdp_dict_st = {}, {}\n",
    "for w in nost_wordlist:\n",
    "    w = remove_prefix(w, True)[0]\n",
    "    if \"zt\" in w:\n",
    "        z_tdp_exc[\"zt_nost\"].add(w)\n",
    "        if \"st\" in w or \"sd\" in w or \"sp\" in w:\n",
    "            w_old = w.replace(\"st\", \"zt\").replace(\"sd\", \"zd\").replace(\"sp\", \"zp\")\n",
    "            z_tdp_dict_nost[w_old] = w\n",
    "            z_tdp_exc[\"zt_nost\"].add(w_old)\n",
    "    if \"zd\" in w:\n",
    "        z_tdp_exc[\"zd_nost\"].add(w)\n",
    "        if \"st\" in w or \"sd\" in w or \"sp\" in w:\n",
    "            w_old = w.replace(\"st\", \"zt\").replace(\"sd\", \"zd\").replace(\"sp\", \"zp\")\n",
    "            z_tdp_dict_nost[w_old] = w\n",
    "            z_tdp_exc[\"zd_nost\"].add(w_old)\n",
    "    if \"zp\" in w:\n",
    "        z_tdp_exc[\"zp_nost\"].add(w)\n",
    "        if \"st\" in w or \"sd\" in w or \"sp\" in w:\n",
    "            w_old = w.replace(\"st\", \"zt\").replace(\"sd\", \"zd\").replace(\"sp\", \"zp\")\n",
    "            z_tdp_dict_nost[w_old] = w\n",
    "            z_tdp_exc[\"zp_nost\"].add(w_old)\n",
    "for w in st_wordlist:\n",
    "    w = remove_prefix(w, True)[0]\n",
    "    if \"zt\" in w:\n",
    "        z_tdp_exc[\"zt_st\"].add(w)\n",
    "        if \"st\" in w or \"sd\" in w or \"sp\" in w:\n",
    "            w_old = w.replace(\"st\", \"zt\").replace(\"sd\", \"zd\").replace(\"sp\", \"zp\")\n",
    "            z_tdp_dict_st[w_old] = w\n",
    "            z_tdp_exc[\"zt_st\"].add(w_old)\n",
    "    if \"zd\" in w:\n",
    "        z_tdp_exc[\"zd_st\"].add(w)\n",
    "        if \"st\" in w or \"sd\" in w or \"sp\" in w:\n",
    "            w_old = w.replace(\"st\", \"zt\").replace(\"sd\", \"zd\").replace(\"sp\", \"zp\")\n",
    "            z_tdp_dict_st[w_old] = w\n",
    "            z_tdp_exc[\"zd_st\"].add(w_old)\n",
    "    if \"zp\" in w:\n",
    "        z_tdp_exc[\"zp_st\"].add(w)\n",
    "        if \"st\" in w or \"sd\" in w or \"sp\" in w:\n",
    "            w_old = w.replace(\"st\", \"zt\").replace(\"sd\", \"zd\").replace(\"sp\", \"zp\")\n",
    "            z_tdp_dict_st[w_old] = w\n",
    "            z_tdp_exc[\"zp_st\"].add(w_old)\n",
    "len(z_tdp_dict_nost), len(z_tdp_dict_st), len(z_tdp_exc[\"zt_st\"]), len(z_tdp_exc[\"zd_st\"]), len(z_tdp_exc[\"zp_st\"]), len(z_tdp_exc[\"zt_nost\"]), len(z_tdp_exc[\"zd_nost\"]), len(z_tdp_exc[\"zp_nost\"])\n",
    "\n",
    "# Updating with old Latvian characters (\"ch\", \"šan\", \"tāj\", \"īb\", āk):\n",
    "z_tdp_exc[\"zt_st\"].update([\"sovchoztechnikum\", \"termiņuzturēšan\", \"tāluztveršan\", \"šizteikšan\", \"radiouztveršan\", \"slimībizturig\", \"vibroizturib\", \"mitrumizturib\", \"karstumizturib\", \"usumizturib\", \"šuzticib\", \"lizturib\", \"sviedrizturib\", \"daudztautib\", \"sārmizturib\", \"triecienizturib\", \"bāztib\", \"vējizturib\", \"siltumizturib\", \"reizticib\", \"ilgizturib\", \"mazturib\", \"dilumizturib\", \"beztiesib\", \"termoizturib\", \"mazticib\", \"gaismizturib\", \"ūdensizturib\", \"ugunsizturib\", \"dzimumlīdztiesib\", \"slimībizturib\", \"karztumizturib\"])\n",
    "z_tdp_exc[\"zd_st\"].update([\"chrazdan\", \"kēzdivāšārchej\", \"dziedātajztrazd\", \"dziedatajztrazd\", \"ligzdotaj\", \"dziedātajstrazd\", \"dziedatajstrazd\", \"siltumizdalītaj\", \"siltumizdalataj\", \"šaizdegamib\", \"vīzdegunib\", \"datorizdevniecib\", \"bezdomib\", \"ztarpizdevniecib\", \"bezdūšib\", \"bezdarbib\", \"daudzdievib\", \"starpizdevniecib\", \"mazdūšib\", \"bezdievib\"])\n",
    "z_tdp_exc[\"zp_st\"].update([\"bezprātib\", \"daudzpusib\", \"bezpersonib\", \"daudzpavalstniecib\", \"bezpavalstniecib\", \"bezpavalztniecib\", \"bezpilsonib\", \"daudzpavalztniecib\", \"mazpārveidib\", \"bezpalīdzib\"])\n",
    "z_tdp_exc[\"zt_nost\"].update([\"ztch\", \"šuzturešana\", \"mitrumuzturētaji\", \"mitrumuzturetaji\", \"gurumizturiba\", \"aukstumizturiba\", \"reizticibā\", \"beztroksniba\", \"korozijizturiba\", \"detonācijizturiba\", \"mosfērizturiba\", \"gurumizturibas\", \"aukztumizturiba\", \"ilgizturiba\"])\n",
    "z_tdp_exc[\"zd_nost\"].update([\"vozduchs\", \"achuramazda\", \"pizdochen\", \"zduchāčs\", \"pizdochens\", \"mēdītajztrazds\", \"mēditajztrazds\", \"mēdītajstrazds\", \"mēditajstrazds\", \"ceļotajztrazds\", \"daudzdzemdētaja\", \"daudzdzemdetaja\", \"ceļotajstrazds\", \"grauzdētajs\", \"grauzdetajs\", \"ūzderibas\", \"bezdarbiba\", \"daudzdomiba\", \"datorizdevniecibas\", \"zvirgzdainiba\", \"bezdibeniba\", \"brazdavaks\", \"vairakuzdevumu\"])\n",
    "z_tdp_exc[\"zp_nost\"].update([\"autouzpildītajs\", \"autouzpilditajs\", \"bezpamatiba\", \"daudzpirkstiba\", \"mazprātiba\", \"daudzpirkztiba\", \"greizprātiba\", \"mazpilsoniba\"])\n",
    "z_tdp_exc[\"zt_nost\"] = z_tdp_exc[\"zt_nost\"].remove(\"briezt\")\n",
    "z_tdp_dict_st.update({\"dziedātajztrazd\": \"dziedātājztrazd\", \"ztarpizdevniecib\": \"ztarpizdevniecīb\", \"karztumizturib\": \"karztumizturīb\", \"daudzpavalztniecib\": \"daudzpavalztniecīb\"})\n",
    "z_tdp_dict_nost.update({\"mēdītajztrazds\": \"mēdītājztrazds\", \"ceļotajztrazds\": \"ceļotājztrazds\", \"bezpavalztniecib\": \"bezpavalztniecīb\", \"daudzpirkztiba\": \"daudzpirkztība\", \"aukztumizturiba\": \"aukztumizturība\"})"
   ]
  },
  {
   "cell_type": "code",
   "execution_count": 399,
   "metadata": {},
   "outputs": [],
   "source": [
    "tž_exc_st, tš_exc_st, tž_exc_nost, tš_exc_nost, tš_exc_st_pref, tž_exc_st_pref, tš_exc_nost_pref, tž_exc_nost_pref = set(), set(), set(), set(), set(), set(), set(), set()\n",
    "for w in nost_wordlist:\n",
    "    w, pref = remove_prefix(w, True)\n",
    "    if pref[-1:] == \"t\" and w[0] == \"š\":\n",
    "        tš_exc_nost_pref.add(\"t\"+w)\n",
    "    if pref[-1:] == \"t\" and w[0] == \"ž\":\n",
    "        tž_exc_nost_pref.add(\"t\"+w)\n",
    "    if \"tš\" in w:\n",
    "        tš_exc_nost.add(w)\n",
    "    if \"tž\" in w:\n",
    "        tž_exc_nost.add(w)\n",
    "for w in st_wordlist:\n",
    "    w, pref = remove_prefix(w, True)\n",
    "    if pref[-1:] == \"t\" and w[0] == \"š\":\n",
    "        tš_exc_st_pref.add(\"t\"+w)\n",
    "    if pref[-1:] == \"t\" and w[0] == \"ž\":\n",
    "        tž_exc_st_pref.add(\"t\"+w)\n",
    "    if \"tš\" in w:\n",
    "        tš_exc_st.add(w)\n",
    "    if \"tž\" in w:\n",
    "        tž_exc_st.add(w)\n",
    "len(tž_exc_st), len(tš_exc_st), len(tž_exc_nost), len(tš_exc_nost)\n",
    "tž_tš_exc = {}\n",
    "tž_tš_exc[\"tž_st\"] = tž_exc_st\n",
    "tž_tš_exc[\"tš_st\"] = tš_exc_st\n",
    "tž_tš_exc[\"tž_nost\"] = tž_exc_nost\n",
    "tž_tš_exc[\"tš_nost\"] = tš_exc_nost\n",
    "tž_tš_exc[\"tž_nost_pref\"] = tž_exc_nost_pref\n",
    "tž_tš_exc[\"tž_st_pref\"] = tž_exc_st_pref\n",
    "tž_tš_exc[\"tš_nost_pref\"] = tš_exc_nost_pref\n",
    "tž_tš_exc[\"tš_st_pref\"] = tš_exc_st_pref"
   ]
  },
  {
   "cell_type": "code",
   "execution_count": 273,
   "metadata": {},
   "outputs": [
    {
     "data": {
      "text/plain": [
       "(126, 45)"
      ]
     },
     "execution_count": 273,
     "metadata": {},
     "output_type": "execute_result"
    }
   ],
   "source": [
    "nie_st, nie_nost = set(), set()\n",
    "for w in nost_wordlist:\n",
    "    if \"nie\" == w[:3]:\n",
    "        nie_nost.add(w)\n",
    "    \n",
    "for w in st_wordlist:\n",
    "    if \"nie\" == w[:3]:\n",
    "        nie_st.add(w)\n",
    "len(nie_nost), len(nie_st)"
   ]
  },
  {
   "cell_type": "code",
   "execution_count": 38,
   "metadata": {},
   "outputs": [
    {
     "data": {
      "text/plain": [
       "(1483, 170)"
      ]
     },
     "execution_count": 38,
     "metadata": {},
     "output_type": "execute_result"
    }
   ],
   "source": [
    "diacritic_char = {\"ā\", \"č\", \"ē\", \"ģ\", \"ī\", \"ķ\", \"ļ\", \"ņ\", \"š\", \"ū\", \"ž\"}\n",
    "ch_words_nost, no_ch_words_nost, ch_words_st, no_ch_words_st = set(), set(), set(), set()\n",
    "for w in nost_wordlist:\n",
    "    # for i in diacritic_char:\n",
    "        # if not i in w:          # Removing latin words\n",
    "        #     if not w[-2:] in [\"ae\", \"ea\", \"ia\"] and not w[-3:] in [\"mum\", \"ius\"]:  # Removing latin words\n",
    "    if \"ch\" in w:\n",
    "        ch_words_nost.add(w)\n",
    "    else:\n",
    "        no_ch_words_nost.add(w)\n",
    "for w in st_wordlist:\n",
    "    if \"ch\" in w:\n",
    "        ch_words_st.add(w)\n",
    "    else:\n",
    "        no_ch_words_st.add(w)\n",
    "        \n",
    "ch_nost, ch_st = set(), set()\n",
    "for w in ch_words_nost:\n",
    "    if not w.replace(\"ch\", \"h\") in no_ch_words_nost and not stem(w.replace(\"ch\", \"h\")) in no_ch_words_st:\n",
    "        ch_nost.add(w)\n",
    "\n",
    "for w in ch_words_st:\n",
    "    if not w.replace(\"ch\", \"h\") in no_ch_words_st:\n",
    "        ch_st.add(w)\n",
    "        \n",
    "# Updating with \"īb\", \"āk\", \"šan\", \"tāj\": (There were no occurances)\n",
    "len(ch_nost), len(ch_st)"
   ]
  },
  {
   "cell_type": "code",
   "execution_count": 70,
   "metadata": {},
   "outputs": [
    {
     "data": {
      "text/plain": [
       "(616, 297)"
      ]
     },
     "execution_count": 70,
     "metadata": {},
     "output_type": "execute_result"
    }
   ],
   "source": [
    "# pref_vcc_c_pref_nost, pref_vcc_c_pref_st = [], []\n",
    "pref_vcc_w_nost, pref_vcc_w_st = [], []\n",
    "\n",
    "for i in nost_wordlist:\n",
    "    # for pr in ['atpakaļ', 'līdzās', 'priekš', 'pretim', 'pret', 'līdz', 'caur', 'vis', 'pie', 'pār', 'aiz', 'pus', 'uz', 'sa', 'pa', 'no', 'ne', 'jā', 'iz', 'ie', 'at', 'ap']:\n",
    "        # if w.startswith(pr):\n",
    "            # new_i = i[len(pr):]\n",
    "            w, pr = remove_prefix(i)\n",
    "            if w[:1] == pr[-1:] and w[:1] in consonants and pr[-2:-1] in [\"a\", \"e\", \"i\", \"o\", \"u\"]:\n",
    "                pref_vcc_w_nost.append(w)\n",
    "                # for ppr in ['atpakaļ', 'līdzās', 'priekš', 'pretim', 'pret', 'līdz', 'caur', 'vis', 'pie', 'pār', 'aiz', 'pus', 'uz', 'sa', 'pa', 'no', 'ne', 'jā', 'iz', 'ie', 'at', 'ap']:\n",
    "                #     if new_i[1:].startswith(ppr):\n",
    "                #         pref_vcc_c_pref_nost.append(new_i)\n",
    "for i in st_wordlist:\n",
    "    # for pr in ['atpakaļ', 'līdzās', 'priekš', 'pretim', 'pret', 'līdz', 'caur', 'vis', 'pie', 'pār', 'aiz', 'pus', 'uz', 'sa', 'pa', 'no', 'ne', 'jā', 'iz', 'ie', 'at', 'ap']:\n",
    "        # if w.startswith(pr):\n",
    "            # new_i = i[len(pr):]\n",
    "            w, pr = remove_prefix(i)\n",
    "            if w[:1] == pr[-1:] and w[:1] in consonants and pr[-2:-1] in [\"a\", \"e\", \"i\", \"o\", \"u\"]:\n",
    "                pref_vcc_w_st.append(w)\n",
    "                # for ppr in ['atpakaļ', 'līdzās', 'priekš', 'pretim', 'pret', 'līdz', 'caur', 'vis', 'pie', 'pār', 'aiz', 'pus', 'uz', 'sa', 'pa', 'no', 'ne', 'jā', 'iz', 'ie', 'at', 'ap']:\n",
    "                #     if new_i[1:].startswith(ppr):\n",
    "                #         pref_vcc_c_pref_st.append(new_i)\n",
    "\n",
    "\n",
    "# len(pref_vcc_c_pref_nost), len(pref_vcc_c_pref_st),\n",
    "len(pref_vcc_w_nost), len(pref_vcc_w_st)"
   ]
  }
 ],
 "metadata": {
  "kernelspec": {
   "display_name": "Python 3",
   "language": "python",
   "name": "python3"
  },
  "language_info": {
   "codemirror_mode": {
    "name": "ipython",
    "version": 3
   },
   "file_extension": ".py",
   "mimetype": "text/x-python",
   "name": "python",
   "nbconvert_exporter": "python",
   "pygments_lexer": "ipython3",
   "version": "3.11.4"
  },
  "orig_nbformat": 4
 },
 "nbformat": 4,
 "nbformat_minor": 2
}
